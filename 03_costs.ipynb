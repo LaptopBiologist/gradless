{
 "cells": [
  {
   "cell_type": "code",
   "execution_count": null,
   "metadata": {},
   "outputs": [],
   "source": [
    "# default_exp costs"
   ]
  },
  {
   "cell_type": "markdown",
   "metadata": {},
   "source": [
    "# costs\n",
    "\n",
    "Most problems require their own cost function, and these should generally be straight forward to implement. Several example cost functions are implemented here, including a wrapper function to simplify the use of custom cost functions. One somewhat complicated cost function is provided here, the Evidence Lower Bound (ELBO) used in variational inference.\n",
    "\n",
    "Cost functions in ```gradless``` are structured as classes, which organize a function for assessing the model fit along with the data the model is being fit to. \n"
   ]
  },
  {
   "cell_type": "code",
   "execution_count": null,
   "metadata": {},
   "outputs": [],
   "source": [
    "#hide\n",
    "from nbdev.showdoc import *\n",
    "import numpy\n",
    "import scipy\n"
   ]
  }
 ],
 "metadata": {
  "kernelspec": {
   "display_name": "Python 3",
   "language": "python",
   "name": "python3"
  }
 },
 "nbformat": 4,
 "nbformat_minor": 4
}
