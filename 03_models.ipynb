{
 "cells": [
  {
   "cell_type": "code",
   "execution_count": null,
   "metadata": {},
   "outputs": [],
   "source": [
    "# default_exp costs"
   ]
  },
  {
   "cell_type": "code",
   "execution_count": null,
   "metadata": {},
   "outputs": [
    {
     "name": "stdout",
     "output_type": "stream",
     "text": [
      "The autoreload extension is already loaded. To reload it, use:\n",
      "  %reload_ext autoreload\n"
     ]
    }
   ],
   "source": [
    "#hide\n",
    "%load_ext autoreload\n",
    "%autoreload 2"
   ]
  },
  {
   "cell_type": "markdown",
   "metadata": {},
   "source": [
    "# costs"
   ]
  },
  {
   "cell_type": "markdown",
   "metadata": {},
   "source": [
    "# Models: Wrapping objective functions and data \n",
    "\n",
    "ToC"
   ]
  },
  {
   "cell_type": "markdown",
   "metadata": {},
   "source": [
    "The ```GradientDescent``` optimizer expects the cost function to be stored within a class with an ```evaluate()``` method, which takes a 1D numpy array of parameter values and returns a float. A generic class ```Model``` is provided to organize user-defined cost functions and data so they can be easily passed to the optimizer. \n",
    "\n",
    "Should this class prove insufficient in some circumstances, a description of the API expected by ```GradientDescent``` along with an abstract base class is provided."
   ]
  },
  {
   "cell_type": "code",
   "execution_count": null,
   "metadata": {},
   "outputs": [],
   "source": [
    "#hide\n",
    "from nbdev.showdoc import *\n",
    "from matplotlib import pyplot"
   ]
  },
  {
   "cell_type": "code",
   "execution_count": null,
   "metadata": {},
   "outputs": [],
   "source": [
    "#export\n",
    "import numpy\n",
    "import scipy\n",
    "import scipy.stats\n",
    "\n",
    "from abc import ABC, abstractmethod"
   ]
  },
  {
   "cell_type": "code",
   "execution_count": null,
   "metadata": {},
   "outputs": [],
   "source": [
    "#export\n",
    "class ModelBase(ABC):\n",
    "    \"\"\"A helper class that provides a standard means to create\n",
    "    classes to store models used by GradientDescent.\"\"\"\n",
    "    \n",
    "\n",
    "    RV=None\n",
    "    update_rvs=True\n",
    "    @abstractmethod     #Require that all cost functions have the .evaluate method\n",
    "    \n",
    "    def evaluate(self): pass\n",
    "\n",
    "    def sample_rvs(self):\n",
    "        \"\"\"This can be used to regenerate a random variable used by the cost function.\n",
    "        It may be desirable hold some random variables constant during gradient evaluations, for example\"\"\"\n",
    "        if self.RV is not None:\n",
    "            self.z=self.RV.rvs()\n",
    "\n",
    "#         raise NotImplementedError(\"Cost functions must included a boolean attribute 'update_rvs'\")\n",
    "        \n",
    "        "
   ]
  },
  {
   "cell_type": "markdown",
   "metadata": {},
   "source": [
    "***\n",
    "\n",
    "```GradientDescent``` is designed to\n",
    "The base class ```ModelBase``` is relatively simple, consisting of two methods and two attributes\n",
    "\n",
    "The methods are\n",
    "1. ```.evaluate``` which must be defined in any particular cost function class written by the user\n",
    "2. ```.sample_rvs``` which is automatically included in the base class, and draws a random variable if a random variable generator is stored in the RV attribute\n",
    "\n",
    "The two attributes are\n",
    "1. ```RV``` which by default is ```None```, but may be used to store a function that can generate random variables that are used in the evaluation of the cost function (e.g. ```scipy.stats.norm.rvs```)\n",
    "2. ```update_rvs``` is a flag that tells the ```SPSAGradient``` class to update the random variable each time it evaluates the gradient. By default this is ```True```, though this will only have an effect if a random variable generator is included in the cost."
   ]
  },
  {
   "cell_type": "code",
   "execution_count": null,
   "metadata": {},
   "outputs": [],
   "source": [
    "#export\n",
    "class Model(ModelBase):\n",
    "    \"\"\"A class for passing objective functions and data to the GradientDescent\n",
    "    optimizer \n",
    "    \n",
    "    Inputs:\n",
    "    \n",
    "    cost - the objective function to be minimized\n",
    "    data - the data to which the model will be fit (optional)\n",
    "    RV - An object with a .rvs() method to generate random variables\n",
    "        for the cost function\n",
    "    update_rvs: True/False call RV.rvs() before each gradient evaluation\n",
    "    \"\"\"\n",
    "    def __init__(self, cost, data=None, RV=None, update_rvs=False):\n",
    "\n",
    "        self.cost=cost\n",
    "        self.data=data\n",
    "        self.RV=RV\n",
    "        if self.RV is not None:\n",
    "            self.z=self.sample_rvs()\n",
    "        \n",
    "        if RV is None:\n",
    "            self.update_rvs=False\n",
    "        else:\n",
    "            assert type(update_rvs) is bool\n",
    "            self.update_rvs=update_rvs\n",
    "    def evaluate(self, theta):\n",
    "        if self.data is None:\n",
    "            return self.cost(theta)\n",
    "        if self.RV is None:\n",
    "            return self.cost(theta, self.data)\n",
    "        else:\n",
    "            return self.cost(theta, self.data, self.z)"
   ]
  },
  {
   "cell_type": "markdown",
   "metadata": {},
   "source": [
    "***\n",
    "In general, though, it shouldn't be necessary to use the base class, as most simple cost functions can be wrapped in an instance of the ```Model``` class. The ```Model``` class can be used to wrapped both a cost function and data\n",
    "\n",
    "The only required argument is a user-defined cost function. If the model is to be fit to data, then the data  organized in a way that the cost function expects.\n",
    "\n",
    "The ```cost``` function should take three arguments:\n",
    "\n",
    "1. ```theta```: A 1-d numpy array of model parameters\n",
    "2. ```data```: (Optional) A variable storing the data\n",
    "3. ```z```: (Optional) The outcome of a random variable used to compute the objective function.\n",
    "\n",
    "The ```data``` may be organized however the ```cost``` expects, for example as dictionary, a list, or a numpy array.\n",
    "\n",
    "The two optional arguments taken by ```Model``` relate to a random variable that may be passed to the cost function:\n",
    "\n",
    "1. ```RV``` may be a passed a object with a ```.rvs()``` method that generates a random variable when called (e.g. a frozen scipy distribution such are ```scipy.stats.norm([0]*10,[1]*10)``` which can be used to generate 10 samples from a unit normal distribution.\n",
    "2. ```update_rvs``` stores a True/False value, telling the gradient approximation whether to regenerate the random variable after each gradient estimate.\n",
    "\n",
    "The current value the random variable drawn from ```RV``` is stored as the attribute ```z```.\n",
    "\n",
    "If these options are employed, the gradient approximation holds the random variable ```z``` constant during the forward and backward perturbations used to approximate the gradient. In general, I think it may be best to not use these options--my intution is that noise in the gradient due a simulator employed in the objective function ought to be left inside in the gradient (but I could be wrong). However, there are cases where it absolutely make sense to eliminate sources of randomness from the gradient evaluation, for example the Monte Carlo integration often employed to compute the objective function used in variational inference (more on this below)."
   ]
  },
  {
   "cell_type": "markdown",
   "metadata": {},
   "source": [
    "## Example usage\n",
    "\n",
    "Okay, let's try out an example, where we are interested in the mean-squared error of a simple linear regression.\n",
    "\n",
    "Now let's generate 200 data points from a simple linear relationship, with a slope of 2 and an intercept of 5:\n",
    "\n",
    "$$x \\sim normal(0, 5)$$\n",
    "\n",
    "$$\\epsilon \\sim normal(0,2)$$\n",
    "\n",
    "$$y=2x+5+\\epsilon$$\n",
    "\n",
    "\n"
   ]
  },
  {
   "cell_type": "code",
   "execution_count": null,
   "metadata": {},
   "outputs": [],
   "source": [
    "x=scipy.stats.norm.rvs(0, 5, size=200)\n",
    "err=scipy.stats.norm.rvs(0, 2, size=200)\n",
    "slope=2\n",
    "intercept=5\n",
    "y=x*slope+intercept +err\n",
    "# pyplot.scatter(x,y)\n"
   ]
  },
  {
   "cell_type": "markdown",
   "metadata": {},
   "source": [
    "Let's organized this data as a dictionary"
   ]
  },
  {
   "cell_type": "code",
   "execution_count": null,
   "metadata": {},
   "outputs": [],
   "source": [
    "data={'x':x,\n",
    "     'y':y}"
   ]
  },
  {
   "cell_type": "markdown",
   "metadata": {},
   "source": [
    "Now we need a function that takes a vector of parameter values and data and uses these to returns a float. Note that it does not matter how the data is organized, so long as the function can interpret it internally.\n"
   ]
  },
  {
   "cell_type": "code",
   "execution_count": null,
   "metadata": {},
   "outputs": [],
   "source": [
    "def MSE(theta, data):\n",
    "    x,y=data['x'], data['y']\n",
    "    y_pred=theta[0]*x+theta[1]\n",
    "    return numpy.mean((y-y_pred)**2)"
   ]
  },
  {
   "cell_type": "markdown",
   "metadata": {},
   "source": [
    "Okay, now we'll wrap the cost function and the data in the ```Model``` class"
   ]
  },
  {
   "cell_type": "code",
   "execution_count": null,
   "metadata": {},
   "outputs": [],
   "source": [
    "mse_cost=Model(MSE, data)"
   ]
  },
  {
   "cell_type": "markdown",
   "metadata": {},
   "source": [
    "Because we didn't pass any random variable generators, both ```update_rvs``` and ```RV``` remain at their default values:"
   ]
  },
  {
   "cell_type": "code",
   "execution_count": null,
   "metadata": {},
   "outputs": [
    {
     "name": "stdout",
     "output_type": "stream",
     "text": [
      "mse_cost.RV = None\n",
      "mse_cost.update_rvs = False\n"
     ]
    }
   ],
   "source": [
    "print (f\"mse_cost.RV = {mse_cost.RV}\")\n",
    "print (f\"mse_cost.update_rvs = {mse_cost.update_rvs}\")"
   ]
  },
  {
   "cell_type": "markdown",
   "metadata": {},
   "source": [
    "We can evaluate the cost function on the data by passing a proposed parameter value to the ```.evaluate()``` method:"
   ]
  },
  {
   "cell_type": "code",
   "execution_count": null,
   "metadata": {},
   "outputs": [
    {
     "data": {
      "text/plain": [
       "4.727924698090302"
      ]
     },
     "execution_count": null,
     "metadata": {},
     "output_type": "execute_result"
    }
   ],
   "source": [
    "mse_cost.evaluate([2,5])"
   ]
  },
  {
   "cell_type": "markdown",
   "metadata": {},
   "source": [
    "We could further use this to visualize the landscape of the objective function a grid of different combinations of (slope, intercept) parameters (the parameter value used to generate the data is marked with a red X):"
   ]
  },
  {
   "cell_type": "code",
   "execution_count": null,
   "metadata": {},
   "outputs": [
    {
     "data": {
      "text/plain": [
       "(-10.0, 10.0)"
      ]
     },
     "execution_count": null,
     "metadata": {},
     "output_type": "execute_result"
    },
    {
     "data": {
      "image/png": "[encoded data removed]",
      "text/plain": [
       "<Figure size 432x288 with 2 Axes>"
      ]
     },
     "metadata": {
      "needs_background": "light"
     },
     "output_type": "display_data"
    }
   ],
   "source": [
    "X,Y,Z=[],[],[]\n",
    "for slope in numpy.arange(-10, 10,.2):\n",
    "\n",
    "    for intercept in numpy.arange(-10, 10,.2):\n",
    "        Y.append(intercept)\n",
    "        X.append(slope)\n",
    "        Z.append(mse_cost.evaluate([slope,intercept]))\n",
    "sc=pyplot.scatter(X,Y, c=numpy.log(Z))\n",
    "pyplot.scatter(2, 5, marker='x',s=100, c='r')\n",
    "cbar=pyplot.colorbar(sc)\n",
    "cbar.set_label('log (MSE)', size=14)\n",
    "pyplot.ylabel('Intercept')\n",
    "pyplot.xlabel('Slope')\n",
    "pyplot.xlim(-10,10)\n",
    "pyplot.ylim(-10,10)"
   ]
  },
  {
   "cell_type": "markdown",
   "metadata": {},
   "source": [
    "### A cost function for variational inference\n",
    "\n",
    "Variational inference is an approximate approach to estimating the posterior distribution in Bayesian statistics. Rather than compute the posterior exactly (which is possible in only a limited set of simple models) or draw samples from the posterior using a Monte Carlo procedure (which is often preferable and often easily accomplished with [Stan]() or [PyMC3]()), variational inference seeks to identify a reasonable approximation of the posterior. This reframes inference as an optimization problem\n",
    "\n",
    "$$ELBO(\\theta, X) = \\int_\\zeta [ log P(\\zeta, X) - log Q(\\zeta; \\mu, \\sigma) ]$$\n",
    "\n",
    "The integral is often avoided through the use of Monte Carlo simulations\n",
    "\n",
    "$$z \\sim Normal (0,1)$$\n",
    "$$\\zeta = \\mu + z \\sigma$$\n",
    "$$ELBO(\\theta, X) = log P(\\zeta, X) - log Q(\\zeta; \\mu, \\sigma) $$\n",
    "\n",
    "When more typical stochastic gradient descent is employed, the gradient is usually evaluated analytically or through automatic differentiation *given a particular value of z* which drawn from a unit normal distribution of iteration of gradient descent. \n",
    "\n",
    "In general, optimizing this function based on exact gradient computations would be preferable (e.g. with PyMC3 or JAX), but if computing the evidence term ($log P (\\zeta,X)$) requires simulations, the exact gradients will not be available. The noise in the objective function now comes from two sources:\n",
    "1. The replacing the integral with Monte Carlo sampling\n",
    "2. Using simulations to estimate the model's likelihood.\n",
    "\n",
    "\n"
   ]
  },
  {
   "cell_type": "code",
   "execution_count": null,
   "metadata": {},
   "outputs": [
    {
     "data": {
      "text/plain": [
       "array([-0.30794448,  1.38911643, -0.86153109,  0.59804218, -0.43774877,\n",
       "       -0.30468538,  0.2646122 ,  0.63004664, -1.01422891, -0.47949356])"
      ]
     },
     "execution_count": null,
     "metadata": {},
     "output_type": "execute_result"
    }
   ],
   "source": [
    "norm_froz=scipy.stats.norm([0]*10,[1]*10)\n",
    "norm_froz.rvs()"
   ]
  },
  {
   "cell_type": "code",
   "execution_count": null,
   "metadata": {},
   "outputs": [],
   "source": [
    "\n",
    "\n",
    "class ELBO(ModelBase):\n",
    "    def __init__(self, evidence, data, param_num, log=True, update_rvs=True):\n",
    "        self.cost=evidence\n",
    "        self.data=data\n",
    "        self.param_num=param_num\n",
    "        self.update_rvs=True\n",
    "        self.RV=scipy.stats.norm([0.]*param_num,[1.]*param_num)\n",
    "        self.z=self.RV.rvs()\n",
    "        self.log=log\n",
    "        \n",
    "    def evaluate(self, theta):\n",
    "        mu=theta[:self.param_num]\n",
    "        sd=2.**theta[self.param_num:]\n",
    "\n",
    "        eps=mu+self.z*(sd)\n",
    "\n",
    "        p=self.cost(eps, self.data)\n",
    "        q=scipy.stats.norm.logpdf(eps, mu,sd).sum()\n",
    "        if self.log==True:\n",
    "            return numpy.log10(-(p-q))\n",
    "        else:\n",
    "            return -(p-q)\n",
    "#     def up"
   ]
  },
  {
   "cell_type": "code",
   "execution_count": null,
   "metadata": {},
   "outputs": [],
   "source": [
    "elbo=ELBO(MSE, data,10)"
   ]
  },
  {
   "cell_type": "code",
   "execution_count": null,
   "metadata": {},
   "outputs": [],
   "source": [
    "elbo.sample_rvs()"
   ]
  },
  {
   "cell_type": "code",
   "execution_count": null,
   "metadata": {},
   "outputs": [],
   "source": []
  },
  {
   "cell_type": "code",
   "execution_count": null,
   "metadata": {},
   "outputs": [
    {
     "data": {
      "text/plain": [
       "True"
      ]
     },
     "execution_count": null,
     "metadata": {},
     "output_type": "execute_result"
    }
   ],
   "source": [
    "elbo.update_rvs"
   ]
  }
 ],
 "metadata": {
  "kernelspec": {
   "display_name": "Python 3",
   "language": "python",
   "name": "python3"
  }
 },
 "nbformat": 4,
 "nbformat_minor": 4
}
