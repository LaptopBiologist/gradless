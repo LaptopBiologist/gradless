{
 "cells": [
  {
   "cell_type": "code",
   "execution_count": null,
   "metadata": {},
   "outputs": [],
   "source": [
    "# default_exp math"
   ]
  },
  {
   "cell_type": "markdown",
   "metadata": {},
   "source": [
    "# math - Utility functions for calculations\n",
    "\n"
   ]
  },
  {
   "cell_type": "code",
   "execution_count": null,
   "metadata": {},
   "outputs": [],
   "source": [
    "#export\n",
    "import numpy\n",
    "import scipy\n",
    "import scipy.stats\n",
    "import jax.numpy as jnp\n",
    "import jax.scipy as jsc"
   ]
  },
  {
   "cell_type": "code",
   "execution_count": null,
   "metadata": {},
   "outputs": [],
   "source": [
    "#hide\n",
    "import hypothesis\n",
    "from hypothesis import given\n",
    "import hypothesis.strategies as st\n",
    "import hypothesis.extra.numpy as hypo_numpy\n",
    "from hypothesis import note\n",
    "from numpy.testing import *\n",
    "\n",
    "from matplotlib import pyplot"
   ]
  },
  {
   "cell_type": "markdown",
   "metadata": {},
   "source": [
    "This is a collection of mathematical functions I sometimes find useful\n",
    "***\n",
    "## Numerically stable functions"
   ]
  },
  {
   "cell_type": "code",
   "execution_count": null,
   "metadata": {},
   "outputs": [],
   "source": [
    "#export\n",
    "def log1mexp(x, threshold=numpy.log(.5)):\n",
    "    \"\"\"Computes log(1 - exp(x))\n",
    "    Note to self: Add citation\"\"\"\n",
    "    #Some type handling\n",
    "    if type(x) is not numpy.array:\n",
    "        x=numpy.array(x)\n",
    "    if hasattr(x, 'shape'):\n",
    "        filter_val=x<threshold\n",
    "        val=numpy.zeros(x.shape)\n",
    "        #x<threshold\n",
    "        val[filter_val]=numpy.log1p(-numpy.exp(x[filter_val]))\n",
    "        #x>=threshold\n",
    "        val[~filter_val]=numpy.log(- numpy.expm1(x[~filter_val]))\n",
    "    else:\n",
    "        if x<threshold:\n",
    "            val=numpy.log1p(-numpy.exp(x))\n",
    "        else:\n",
    "            val=numpy.log( -numpy.expm1(x))\n",
    "                        \n",
    "        \n",
    "    return val\n"
   ]
  },
  {
   "cell_type": "code",
   "execution_count": null,
   "metadata": {},
   "outputs": [
    {
     "data": {
      "text/plain": [
       "array(-0.14541346)"
      ]
     },
     "execution_count": null,
     "metadata": {},
     "output_type": "execute_result"
    }
   ],
   "source": [
    "log1mexp(-2)"
   ]
  },
  {
   "cell_type": "code",
   "execution_count": null,
   "metadata": {},
   "outputs": [
    {
     "name": "stderr",
     "output_type": "stream",
     "text": [
      "/home/mpm289/anaconda3/lib/python3.6/site-packages/ipykernel_launcher.py:14: RuntimeWarning: divide by zero encountered in log\n",
      "  \n",
      "/home/mpm289/anaconda3/lib/python3.6/site-packages/ipykernel_launcher.py:7: RuntimeWarning: divide by zero encountered in log\n",
      "  import sys\n",
      "/home/mpm289/anaconda3/lib/python3.6/site-packages/ipykernel_launcher.py:22: RuntimeWarning: divide by zero encountered in log\n",
      "/home/mpm289/anaconda3/lib/python3.6/site-packages/ipykernel_launcher.py:14: RuntimeWarning: invalid value encountered in log\n",
      "  \n",
      "/home/mpm289/anaconda3/lib/python3.6/site-packages/ipykernel_launcher.py:22: RuntimeWarning: invalid value encountered in log\n"
     ]
    }
   ],
   "source": [
    "#hide\n",
    "@given(st.floats(min_value=-10,max_value=0))\n",
    "def test_log1mexp_with_number(x):\n",
    "    \"\"\"Check to make sure the two approaches are consistent for numbers smaller than zero.\n",
    "    Inputs should be less than zero, but not too small, because there will be some precision errors\"\"\"\n",
    "    stable=log1mexp(x)\n",
    "    standard=numpy.log(1-numpy.exp(x))\n",
    "    note(f\"{stable}=?={standard}\")\n",
    "    assert_almost_equal (stable,standard, err_msg=\"Calculations do not match\"), \n",
    "test_log1mexp_with_number()\n",
    "\n",
    "shape_strategy=hypo_numpy.array_shapes()\n",
    "element_strategy=st.floats(min_value=-10, max_value=10)\n",
    "\n",
    "@given(hypo_numpy.arrays(numpy.float,\n",
    "                         elements=element_strategy,\n",
    "                         shape=shape_strategy))\n",
    "def test_log1mexp_with_array(x):\n",
    "    \"\"\"Check to make sure the two approaches are consistent for numbers smaller than zero.\n",
    "    Inputs should be less than zero, but not too small, because there will be some precision errors\"\"\"\n",
    "    stable=log1mexp(x)\n",
    "    standard=numpy.log(1-numpy.exp(x))\n",
    "    note(f\"{stable}=?={standard}\")\n",
    "    assert_almost_equal (stable,standard, err_msg=\"Calculations do not match\"), \n",
    "test_log1mexp_with_array()"
   ]
  },
  {
   "cell_type": "code",
   "execution_count": null,
   "metadata": {},
   "outputs": [],
   "source": []
  },
  {
   "cell_type": "code",
   "execution_count": null,
   "metadata": {},
   "outputs": [],
   "source": [
    "#export\n",
    "def logexpit(x):\n",
    "    \"\"\"Computes the log of the inverse logit function\"\"\"\n",
    "    return -jnp.logaddexp(0, -x)"
   ]
  },
  {
   "cell_type": "code",
   "execution_count": null,
   "metadata": {},
   "outputs": [
    {
     "name": "stdout",
     "output_type": "stream",
     "text": [
      "-inf\n",
      "-100000.0\n"
     ]
    },
    {
     "name": "stderr",
     "output_type": "stream",
     "text": [
      "/home/mpm289/anaconda3/lib/python3.6/site-packages/ipykernel_launcher.py:1: RuntimeWarning: divide by zero encountered in log\n",
      "  \"\"\"Entry point for launching an IPython kernel.\n",
      "/home/mpm289/anaconda3/lib/python3.6/site-packages/jax/lib/xla_bridge.py:125: UserWarning: No GPU/TPU found, falling back to CPU.\n",
      "  warnings.warn('No GPU/TPU found, falling back to CPU.')\n"
     ]
    }
   ],
   "source": [
    "print(numpy.log(scipy.special.expit(-100000)))\n",
    "print(logexpit(-100000))"
   ]
  },
  {
   "cell_type": "code",
   "execution_count": null,
   "metadata": {},
   "outputs": [],
   "source": [
    "#hide\n",
    "@given(st.floats(min_value=-10,max_value=10))\n",
    "def test_logexpit_with_number(x):\n",
    "    \"\"\"Check to make sure the two approaches are consistent for numbers smaller than zero.\n",
    "    Inputs should be less than zero, but not too small, because there will be some precision errors\"\"\"\n",
    "    stable=logexpit(x)\n",
    "    standard=numpy.log(scipy.special.expit(x))\n",
    "    note(f\"{stable}=?={standard}\")\n",
    "    assert_almost_equal (stable,standard,5, err_msg=\"Calculations do not match\"), \n",
    "test_logexpit_with_number()\n",
    "\n"
   ]
  },
  {
   "cell_type": "markdown",
   "metadata": {},
   "source": [
    "## Transformations of functions\n",
    "\n",
    "In some cases it maybe desirable to transform the output of a . This could be accomplished by modify the objective function itself, but for readability and flexibility I wrote a few wrapper functions. "
   ]
  },
  {
   "cell_type": "code",
   "execution_count": null,
   "metadata": {},
   "outputs": [],
   "source": [
    "#export\n",
    "def arcsinh_transform(func):\n",
    "    \"\"\"A wrapper function that creates a new function with applies the signed pseudolog transfrom\"\"\"\n",
    "    def call_func(*args, **kwargs):\n",
    "        return numpy.arcsinh( func(*args,**kwargs)/2)\n",
    "    return call_func"
   ]
  },
  {
   "cell_type": "code",
   "execution_count": null,
   "metadata": {},
   "outputs": [],
   "source": [
    "#hide\n",
    "def function_to_wrap(x):\n",
    "    \"\"\"Simple function to be used to test the arcsinh_transform wrapper\"\"\"\n",
    "    return x\n",
    "\n",
    "@given(st.floats(min_value=100), st.booleans())\n",
    "def test_arcsinh_transform_with_bignumbers(x, positive):\n",
    "    \"\"\"Check to make sure this is almost sign(x)log(abs(x)) for big numbers\"\"\"\n",
    "    sign=positive*2-1\n",
    "    test_val=sign*x\n",
    "    output=arcsinh_transform(function_to_wrap)(test_val)\n",
    "    standard=numpy.sign(test_val)*numpy.log(numpy.abs(test_val))\n",
    "    note(f\"{output}=?={standard}\")\n",
    "    assert_almost_equal (output,standard,2, err_msg=\"Calculations do not approx match\"), # 2 decimals should be good enough \n",
    "test_arcsinh_transform_with_bignumbers()\n",
    "\n",
    "@given(st.floats(min_value=-.1, max_value=.1), st.booleans())\n",
    "def test_arcsinh_transform_with_smallnumbers(x, positive):\n",
    "    \"\"\"Check to make sure this is almost x/2 for numbers near zero\"\"\"\n",
    "    sign=positive*2-1\n",
    "    test_val=sign*x\n",
    "    output=arcsinh_transform(function_to_wrap)(test_val)\n",
    "    standard=test_val/2\n",
    "    note(f\"{output}=?={standard}\")\n",
    "    assert_almost_equal (output,standard,2, err_msg=\"Calculations do not approx match\"), # 2 decimals should be good enough \n",
    "test_arcsinh_transform_with_smallnumbers()"
   ]
  },
  {
   "cell_type": "markdown",
   "metadata": {},
   "source": [
    "***\n",
    "A common way to handle functions that vary across orders of magnitude is the log-transfr However, while the negative log-likelihood is often positive for many models, this will not necessarily be the case for all models. Probability density functions can return values greater than $1$ if the probability distribution is highly concentrated (for example, beta distributions do this frequently). In that case, the negative log-likelihood maybe negative, so a log-transformation cannot be applied to negative log-likelihoods in general.\n",
    "\n",
    "An alternative in the inverse hyperbolic sine transformation (arcsineh): $asinh(\\frac{x}{2})$. For large positives numbers, this is almost equivalent to the log-transform. For large negative numbers, this is almost equivalent to the negative of the log-transform. For smaller numbers, near zero, transformation is nearly linear and is almost equivalent to dividing them by $2$. That is, this transformation is always somewhere between a log-scale and linear-scale, being almost exactly log-scale for numbers with large magnitudes and almost exactly linear numbers near zero. Importantly, it's a monotonic transformation so it shouldn't change the location of optima, just squish the scales."
   ]
  },
  {
   "cell_type": "code",
   "execution_count": null,
   "metadata": {},
   "outputs": [
    {
     "name": "stderr",
     "output_type": "stream",
     "text": [
      "/home/mpm289/anaconda3/lib/python3.6/site-packages/ipykernel_launcher.py:4: RuntimeWarning: divide by zero encountered in log\n",
      "  after removing the cwd from sys.path.\n",
      "/home/mpm289/anaconda3/lib/python3.6/site-packages/ipykernel_launcher.py:4: RuntimeWarning: invalid value encountered in multiply\n",
      "  after removing the cwd from sys.path.\n"
     ]
    },
    {
     "data": {
      "text/plain": [
       "Text(0.5, 0, 'x')"
      ]
     },
     "execution_count": null,
     "metadata": {},
     "output_type": "execute_result"
    },
    {
     "data": {
      "image/png": "[encoded data removed]",
      "text/plain": [
       "<Figure size 576x360 with 1 Axes>"
      ]
     },
     "metadata": {
      "needs_background": "light"
     },
     "output_type": "display_data"
    }
   ],
   "source": [
    "pyplot.figure(figsize=(8,5))\n",
    "x=numpy.hstack([numpy.linspace(-10,0,200),numpy.linspace(0,10,200)])\n",
    "pyplot.plot(x,numpy.arcsinh(x/2), lw=8,c='dodgerblue', label='asinh(x/2)')\n",
    "pyplot.plot(x, numpy.sign(x)*numpy.log(numpy.abs(x)), c='firebrick',ls='--', lw=4, label='sign(x)*log( abs(x) )')\n",
    "pyplot.plot([-6,6],numpy.array([-6,6])/2,lw=4, ls='--',c='black', label='x/2')\n",
    "pyplot.legend(fontsize=14)\n",
    "pyplot.ylabel('y', size=14)\n",
    "pyplot.xlabel('x',size=14)\n"
   ]
  },
  {
   "cell_type": "code",
   "execution_count": null,
   "metadata": {},
   "outputs": [],
   "source": [
    "#export\n",
    "def log_transform(func):\n",
    "    \"\"\"A wrapper function that creates a new function that applies the log transform\"\"\"\n",
    "    def call_func(*args, **kwargs):\n",
    "        return numpy.log( func(*args,**kwargs))\n",
    "    return call_func"
   ]
  }
 ],
 "metadata": {
  "kernelspec": {
   "display_name": "Python 3",
   "language": "python",
   "name": "python3"
  }
 },
 "nbformat": 4,
 "nbformat_minor": 4
}
